{
 "cells": [
  {
   "cell_type": "markdown",
   "id": "356806e6",
   "metadata": {},
   "source": [
    "## 1. Работа каких операторов дает верный ответ при любом значении переменной i?\n",
    "\n",
    "1. if i / 2:\n",
    "\n",
    "    print(i, 'чётное')\n",
    "    \n",
    "else:\n",
    "\n",
    "    print(i, 'нечётное')\n",
    "    \n",
    "2. if i // 2:\n",
    "\n",
    "    print(i, 'чётное')\n",
    "    \n",
    "else:\n",
    "\n",
    "    print(i, 'нечётное')\n",
    "    \n",
    "3. if i % 2 == 0:\n",
    "\n",
    "    print(i, 'чётное')\n",
    "    \n",
    "else:\n",
    "\n",
    "    print(i, 'нечётное')\n",
    "    \n",
    "4. if i // 2 == 0:\n",
    "\n",
    "    print(i, 'чётное')\n",
    "    \n",
    "else:\n",
    "\n",
    "    print(i, 'нечётное')\n",
    "    \n",
    "5. if i % 2 != 0:\n",
    "\n",
    "    print(i, 'нечётное')\n",
    "    \n",
    "else:\n",
    "\n",
    "    print(i, 'чётное')\n",
    "    \n",
    "6. if i // 2 != 0:\n",
    "\n",
    "    print(i, 'нечётное')\n",
    "    \n",
    "else:\n",
    "\n",
    "    print(i, 'чётное')\n",
    "    \n",
    "\n",
    "* 1\n",
    "\n",
    "* 2\n",
    "\n",
    "* **3**\n",
    "\n",
    "* 4\n",
    "\n",
    "* **5**\n",
    "\n",
    "* 6\n",
    "\n",
    "## 2. Пароль\n",
    "При регистрации на сайтах требуется вводить пароль дважды. Это сделано для безопасности, поскольку такой подход уменьшает возможность неверного ввода пароля.\n",
    "\n",
    "Напишите программу, которая сравнивает пароль и его подтверждение. Если они совпадают, то программа выводит: «Пароль принят», иначе: «Пароль не принят».\n",
    "\n",
    "Формат входных данных\n",
    "\n",
    "На вход программе подаются две строки.\n",
    "\n",
    "Формат выходных данных\n",
    "\n",
    "Программа должна вывести одну строку в соответствии с условием задачи."
   ]
  },
  {
   "cell_type": "code",
   "execution_count": 1,
   "id": "0a8d8172",
   "metadata": {},
   "outputs": [
    {
     "name": "stdout",
     "output_type": "stream",
     "text": [
      "qwerty\n",
      "qwerty\n",
      "Пароль принят\n"
     ]
    }
   ],
   "source": [
    "pw, pw2 = input(), input()\n",
    "if pw == pw2:\n",
    "    print(\"Пароль принят\")\n",
    "else:\n",
    "    print(\"Пароль не принят\")"
   ]
  },
  {
   "cell_type": "markdown",
   "id": "71f453ee",
   "metadata": {},
   "source": [
    "## 3. Четное или нечетное?\n",
    "Напишите программу, которая определяет, является число четным или нечетным.\n",
    "\n",
    "Формат входных данных\n",
    "\n",
    "На вход программе подаётся одно целое число.\n",
    "\n",
    "Формат выходных данных\n",
    "\n",
    "Программа должна вывести «Четное», если число четное, и «Нечетное» — если число нечетное."
   ]
  },
  {
   "cell_type": "code",
   "execution_count": 2,
   "id": "54c5a71c",
   "metadata": {},
   "outputs": [
    {
     "name": "stdout",
     "output_type": "stream",
     "text": [
      "2\n",
      "Четное\n"
     ]
    }
   ],
   "source": [
    "x = int(input())\n",
    "if x % 2 == 0:\n",
    "    print(\"Четное\")\n",
    "else:\n",
    "    print(\"Нечетное\")"
   ]
  },
  {
   "cell_type": "code",
   "execution_count": null,
   "id": "577db5d5",
   "metadata": {},
   "outputs": [],
   "source": []
  }
 ],
 "metadata": {
  "kernelspec": {
   "display_name": "Python 3 (ipykernel)",
   "language": "python",
   "name": "python3"
  },
  "language_info": {
   "codemirror_mode": {
    "name": "ipython",
    "version": 3
   },
   "file_extension": ".py",
   "mimetype": "text/x-python",
   "name": "python",
   "nbconvert_exporter": "python",
   "pygments_lexer": "ipython3",
   "version": "3.10.4"
  }
 },
 "nbformat": 4,
 "nbformat_minor": 5
}
