{
 "cells": [
  {
   "cell_type": "markdown",
   "id": "bbbcb549",
   "metadata": {},
   "source": [
    "# 1. Значения в списках, заключенные в квадратные скобки и отделенные запятыми, называются\n",
    "\n",
    "\n",
    "* индексаторами\n",
    "\n",
    "* числами\n",
    "\n",
    "* значениями\n",
    "\n",
    "* строками\n",
    "\n",
    "* **элементами**\n",
    "\n",
    "# 2. Из скольких элементов состоит список numbers?\n",
    "\n",
    "```python\n",
    "numbers = [3, 5, 7, 9]\n",
    "```\n",
    "\n",
    "\n",
    "* 9\n",
    "\n",
    "* 5\n",
    "\n",
    "* **4**\n",
    "\n",
    "* 3\n",
    "\n",
    "\n",
    "# 3. Какой индекс у числа 17 в списке numbers?\n",
    "```python\n",
    "numbers = [1, 100, 7, 20, 17, 37, 22]\n",
    "```\n",
    "\n",
    "\n",
    "* 6\n",
    "\n",
    "* 3\n",
    "\n",
    "* **4**\n",
    "\n",
    "* 5\n",
    "\n",
    "# 4. Может ли список в Python содержать значения разных типов данных?\n",
    "\n",
    "\n",
    "* нет\n",
    "\n",
    "* **да**\n",
    "\n",
    "# 5. Что будет выведено в результате выполнения следующего программного кода? \n",
    "```python\n",
    "numbers = [0, 1, 3, 14, 2, 7, 9, 8, 10]\n",
    "print(numbers)\n",
    "```\n",
    "\n",
    "\n",
    "* 0, 1, 3, 14, 2, 7, 9, 8, 10\n",
    "\n",
    "* ['0', '1', '3', '14', '2', '7', '9', '8', '10']\n",
    "\n",
    "* 0 1 3 14 2 7 9 8 10\n",
    "\n",
    "* **[0, 1, 3, 14, 2, 7, 9, 8, 10]**\n",
    "\n",
    "\n",
    "# 6. Что будет выведено в результате выполнения следующего программного кода? \n",
    "```python\n",
    "names = ['Michael', 'John', 'Freddie']\n",
    "print(names)\n",
    "```\n",
    "\n",
    "\n",
    "* [Michael, John, Freddie]\n",
    "\n",
    "* **['Michael', 'John', 'Freddie']**\n",
    "\n",
    "* 'Michael', 'John', 'Freddie'\n",
    "\n",
    "* [\"Michael\", \"John\", \"Freddie\"]\n",
    "\n",
    "# 7. Список чисел\n",
    "На вход программе подается одно число nn. Напишите программу, которая выводит список [1, 2, 3, ..., n].\n",
    "\n",
    "`Формат входных данных`\n",
    "\n",
    "На вход программе подается одно натуральное число.\n",
    "\n",
    "`Формат выходных данных`\n",
    "\n",
    "Программа должна вывести текст в соответствии с условием задачи."
   ]
  },
  {
   "cell_type": "code",
   "execution_count": 1,
   "id": "9463e5d7",
   "metadata": {},
   "outputs": [
    {
     "name": "stdout",
     "output_type": "stream",
     "text": [
      "5\n",
      "[1, 2, 3, 4, 5]\n"
     ]
    }
   ],
   "source": [
    "n = int(input())\n",
    "odd_numbers = list(range(1, n + 1, 1))\n",
    "print(odd_numbers)"
   ]
  },
  {
   "cell_type": "markdown",
   "id": "0dcd740f",
   "metadata": {},
   "source": [
    "# 8. Список букв\n",
    "На вход программе подается одно число nn. Напишите программу, которая выводит список, состоящий из nn букв английского алфавита ['a', 'b', 'c', ...] в нижнем регистре.\n",
    "\n",
    "`Формат входных данных`\n",
    "\n",
    "На вход программе подается натуральное число n,n≤26.\n",
    "\n",
    "`Формат выходных данных`\n",
    "\n",
    "Программа должна вывести текст в соответствии с условием задачи."
   ]
  },
  {
   "cell_type": "code",
   "execution_count": 2,
   "id": "f89e9164",
   "metadata": {},
   "outputs": [
    {
     "name": "stdout",
     "output_type": "stream",
     "text": [
      "5\n",
      "['a', 'b', 'c', 'd', 'e']\n"
     ]
    }
   ],
   "source": [
    "n = int(input())\n",
    "l = list()\n",
    "abc = ['a', 'b', 'c', 'd', 'e', 'f', 'g', 'h', 'i', 'j', 'k', 'l', 'm', 'n', 'o', 'p', 'q', 'r', 's', 't', 'u', 'v', 'w', 'x', 'y', 'z']\n",
    "print(abc[:n])"
   ]
  },
  {
   "cell_type": "markdown",
   "id": "c19d986c",
   "metadata": {},
   "source": [
    "# 9. Дополните приведенный код, используя индексатор, так чтобы он вывел 17-ый элемент списка primes."
   ]
  },
  {
   "cell_type": "code",
   "execution_count": 3,
   "id": "0b259653",
   "metadata": {},
   "outputs": [
    {
     "name": "stdout",
     "output_type": "stream",
     "text": [
      "59\n"
     ]
    }
   ],
   "source": [
    "primes = [2, 3, 5, 7, 11, 13, 17, 19, 23, 29, 31, 37, 41, 43, 47, 53, 59, 61, 67, 71]\n",
    "print(primes[16])"
   ]
  },
  {
   "cell_type": "markdown",
   "id": "0a44ba80",
   "metadata": {},
   "source": [
    "# 10. Дополните приведенный код, используя индексатор, так чтобы он вывел последний элемент списка primes."
   ]
  },
  {
   "cell_type": "code",
   "execution_count": 4,
   "id": "f26b5a26",
   "metadata": {},
   "outputs": [
    {
     "name": "stdout",
     "output_type": "stream",
     "text": [
      "71\n"
     ]
    }
   ],
   "source": [
    "primes = [2, 3, 5, 7, 11, 13, 17, 19, 23, 29, 31, 37, 41, 43, 47, 53, 59, 61, 67, 71]\n",
    "print(primes[-1])"
   ]
  },
  {
   "cell_type": "markdown",
   "id": "9d75d4be",
   "metadata": {},
   "source": [
    "# 11. Дополните приведенный код, используя срезы, так чтобы он вывел первые 6 элементов списка primes.\n",
    "\n",
    "Примечание. Результатом вывода должна быть строка [2, 3, 5, 7, 11, 13]."
   ]
  },
  {
   "cell_type": "code",
   "execution_count": 5,
   "id": "48c91d28",
   "metadata": {},
   "outputs": [
    {
     "name": "stdout",
     "output_type": "stream",
     "text": [
      "[2, 3, 5, 7, 11, 13]\n"
     ]
    }
   ],
   "source": [
    "primes = [2, 3, 5, 7, 11, 13, 17, 19, 23, 29, 31, 37, 41, 43, 47, 53, 59, 61, 67, 71]\n",
    "print(primes[:6])"
   ]
  },
  {
   "cell_type": "markdown",
   "id": "061042f9",
   "metadata": {},
   "source": [
    "# 12. Дополните приведенный код, так чтобы он вывел сумму минимального и максимального элементов списка numbers."
   ]
  },
  {
   "cell_type": "code",
   "execution_count": 6,
   "id": "9c97c7fc",
   "metadata": {},
   "outputs": [
    {
     "name": "stdout",
     "output_type": "stream",
     "text": [
      "13.6618\n"
     ]
    }
   ],
   "source": [
    "numbers = [12.5, 3.1415, 2.718, 9.8, 1.414, 1.1618, 1.324]\n",
    "print(min(numbers) + max(numbers))"
   ]
  },
  {
   "cell_type": "markdown",
   "id": "283ba719",
   "metadata": {},
   "source": [
    "# 13. Дополните приведенный код так, чтобы он вывел среднее арифметическое элементов списка evens."
   ]
  },
  {
   "cell_type": "code",
   "execution_count": 9,
   "id": "8d7d8346",
   "metadata": {},
   "outputs": [
    {
     "name": "stdout",
     "output_type": "stream",
     "text": [
      "11.0\n"
     ]
    }
   ],
   "source": [
    "evens = [2, 4, 6, 8, 10, 12, 14, 16, 18, 20]\n",
    "average = sum(evens) / len(evens)\n",
    "print(average)"
   ]
  },
  {
   "cell_type": "markdown",
   "id": "84dc3ee8",
   "metadata": {},
   "source": [
    "# 14. Дополните приведенный код так, чтобы элемент списка имеющий значение Green заменился на значение Зеленый, а элемент Violet на Фиолетовый. Далее необходимо вывести полученный список."
   ]
  },
  {
   "cell_type": "code",
   "execution_count": 10,
   "id": "cfdd76ab",
   "metadata": {},
   "outputs": [
    {
     "name": "stdout",
     "output_type": "stream",
     "text": [
      "['Red', 'Orange', 'Yellow', 'Зеленый', 'Blue', 'Indigo', 'Фиолетовый']\n"
     ]
    }
   ],
   "source": [
    "rainbow = ['Red', 'Orange', 'Yellow', 'Green', 'Blue', 'Indigo', 'Violet']\n",
    "rainbow[3] = 'Зеленый'\n",
    "rainbow[6] = 'Фиолетовый'\n",
    "print(rainbow)"
   ]
  },
  {
   "cell_type": "markdown",
   "id": "6241f752",
   "metadata": {},
   "source": [
    "# 15. Дополните приведенный код так, чтобы он вывел элементы списка languages в обратном порядке.\n",
    "\n",
    "Примечание. Для вывода списка воспользуйтесь функцией print()."
   ]
  },
  {
   "cell_type": "code",
   "execution_count": 11,
   "id": "9af8395e",
   "metadata": {},
   "outputs": [
    {
     "name": "stdout",
     "output_type": "stream",
     "text": [
      "['Lahnda', 'Japanese', 'Russian', 'Portuguese', 'Bengali', 'Arabic', 'Hindi', 'English', 'Spanish', 'Chinese']\n"
     ]
    }
   ],
   "source": [
    "languages = ['Chinese', 'Spanish', 'English', 'Hindi', 'Arabic', 'Bengali', 'Portuguese', 'Russian', 'Japanese', 'Lahnda']\n",
    "print(languages[::-1])"
   ]
  },
  {
   "cell_type": "markdown",
   "id": "45f4430c",
   "metadata": {},
   "source": [
    "# 16. Дополните приведенный код, используя операторы конкатенации (+) и умножения списка на число (*), так чтобы он вывел список:\n",
    "```\n",
    " [1, 2, 3, 1, 2, 3, 6, 6, 6, 6, 6, 6, 6, 6, 6, 7, 8, 9, 10, 11, 12, 13].\n",
    "```"
   ]
  },
  {
   "cell_type": "code",
   "execution_count": 12,
   "id": "2c630ed6",
   "metadata": {},
   "outputs": [
    {
     "name": "stdout",
     "output_type": "stream",
     "text": [
      "[1, 2, 3, 1, 2, 3, 6, 6, 6, 6, 6, 6, 6, 6, 6, 7, 8, 9, 10, 11, 12, 13]\n"
     ]
    }
   ],
   "source": [
    "numbers1 = [1, 2, 3]\n",
    "numbers2 = [6]\n",
    "numbers3 = [7, 8, 9, 10, 11, 12, 13]\n",
    "print(numbers1 * 2 + numbers2 * 9 + numbers3)"
   ]
  },
  {
   "cell_type": "markdown",
   "id": "1cfb7bee",
   "metadata": {},
   "source": [
    "# 17. Допустим, программа состоит из строки кода:\n",
    "```\n",
    "names = []\n",
    "```\n",
    "Какую из приведенных ниже инструкций следует применить для добавления в список по 0 индексу строкового значения 'Chromatica'?\n",
    "\n",
    "\n",
    "* names[0] = 'Chromatica'\n",
    "\n",
    "* **names.append('Chromatica')**\n",
    "\n",
    "# 18. Что будет выведено в результате выполнения следующего программного кода? \n",
    "```python\n",
    "numbers = [4, 2, 8, 6, 5]\n",
    "numbers.append(7)\n",
    "numbers.append(1)\n",
    "print(numbers)\n",
    "```\n",
    "\n",
    "* **[4, 2, 8, 6, 5, 7, 1]**\n",
    "\n",
    "* [7, 1, 4, 2, 8, 6, 5]\n",
    "\n",
    "* [1, 7, 4, 2, 8, 6, 5]\n",
    "\n",
    "* [4, 2, 8, 6, 5, 1, 7]\n",
    "\n",
    "# 19. Что будет выведено в результате выполнения следующего программного кода? \n",
    "```python\n",
    "numbers = [4, 2]\n",
    "numbers.extend([1, 2, 3])\n",
    "numbers.extend([7, 17, 777])\n",
    "print(numbers)\n",
    "```\n",
    "\n",
    "\n",
    "* [4, 2, 1, 2, 3, 7, 1, 7, 7, 7, 7]\n",
    "\n",
    "* [4, 2, 7, 17, 777, 1, 2, 3]\n",
    "\n",
    "* **[4, 2, 1, 2, 3, 7, 17, 777]**\n",
    "\n",
    "* [1, 2, 3, 7, 17, 777, 4, 2]\n",
    "\n",
    "* [7, 17, 777, 1, 2, 3, 4, 2]\n",
    "\n",
    "# 20. Что будет выведено в результате выполнения следующего программного кода? \n",
    "```python\n",
    "colors = ['red', 'orange', 'yellow', 'green', 'blue', 'purple', 'brown', 'magenta']\n",
    "del colors[2]\n",
    "del colors[6]\n",
    "print(colors)\n",
    "```\n",
    "\n",
    "* **['red', 'orange', 'green', 'blue', 'purple', 'brown']**\n",
    "\n",
    "* ['red', 'yellow', 'green', 'blue', 'purple', 'magenta']\n",
    "\n",
    "* ['red', 'orange', 'green', 'blue', 'purple', 'magenta']\n",
    "\n",
    "* ['red', 'yellow', 'green', 'blue', 'brown', 'magenta']\n",
    "\n",
    "# 21. Все сразу 1 🌶️\n",
    "Дополните приведенный код, чтобы он:\n",
    "\n",
    "1. Вывел длину списка;\n",
    "2. Вывел последний элемент списка;\n",
    "3. Вывел список в обратном порядке (вспоминаем срезы);\n",
    "4. Вывел YES если список содержит числа 5 и 17, и NO в противном случае;\n",
    "5. Вывел список с удаленным первым и последним элементами.\n",
    "\n",
    "Примечание. Каждый вывод осуществлять с новой строки."
   ]
  },
  {
   "cell_type": "code",
   "execution_count": 13,
   "id": "5d337043",
   "metadata": {},
   "outputs": [
    {
     "name": "stdout",
     "output_type": "stream",
     "text": [
      "50\n",
      "5\n",
      "[5, 7, 6, 16, 14, 2, 1, 15, 1, 9, 14, 10, 2, 1, 12, 6, 5, 14, 12, 2, 8, 14, 6, 0, 0, 12, 10, 10, 11, 1, 5, 8, 10, 10, 16, 8, 0, 1, 16, 4, 5, 12, 16, 11, 4, 10, 14, 3, 6, 2]\n",
      "NO\n",
      "[6, 3, 14, 10, 4, 11, 16, 12, 5, 4, 16, 1, 0, 8, 16, 10, 10, 8, 5, 1, 11, 10, 10, 12, 0, 0, 6, 14, 8, 2, 12, 14, 5, 6, 12, 1, 2, 10, 14, 9, 1, 15, 1, 2, 14, 16, 6, 7]\n"
     ]
    }
   ],
   "source": [
    "numbers = [2, 6, 3, 14, 10, 4, 11, 16, 12, 5, 4, 16, 1, 0, 8, 16, 10, 10, 8, 5, 1, 11, 10, 10, 12, 0, 0, 6, 14, 8, 2, 12, 14, 5, 6, 12, 1, 2, 10, 14, 9, 1, 15, 1, 2, 14, 16, 6, 7, 5]\n",
    "print(len(numbers))\n",
    "print(numbers[-1])\n",
    "print(numbers[::-1])\n",
    "if 5 and 17 in numbers:\n",
    "    print('YES')\n",
    "else:\n",
    "    print('NO')\n",
    "print(numbers[1:-1])"
   ]
  },
  {
   "cell_type": "markdown",
   "id": "13f8da79",
   "metadata": {},
   "source": [
    "# 22. Список строк\n",
    "На вход программе подается натуральное число nn, а затем nn строк. Напишите программу, которая создает из указанных строк список и выводит его.\n",
    "\n",
    "`Формат входных данных`\n",
    "\n",
    "На вход программе подаются натуральное число nn, а затем nn строк, каждая на отдельной строке.\n",
    "\n",
    "`Формат выходных данных`\n",
    "\n",
    "Программа должна вывести список состоящий из указанных строк."
   ]
  },
  {
   "cell_type": "code",
   "execution_count": 14,
   "id": "dad9ee82",
   "metadata": {},
   "outputs": [
    {
     "name": "stdout",
     "output_type": "stream",
     "text": [
      "2\n",
      "C#\n",
      "Python\n",
      "['C#', 'Python']\n"
     ]
    }
   ],
   "source": [
    "n = int(input())\n",
    "l = []\n",
    "for i in range(n):\n",
    "    m = input()\n",
    "    l.append(m)\n",
    "print(l)"
   ]
  },
  {
   "cell_type": "markdown",
   "id": "a4706650",
   "metadata": {},
   "source": [
    "# 23. Алфавит\n",
    "Напишите программу, выводящую следующий список:\n",
    "```\n",
    "['a', 'bb', 'ccc', 'dddd', 'eeeee', 'ffffff', ...]\n",
    "```\n",
    "`Формат выходных данных`\n",
    "\n",
    "Программа должна вывести указанный список.\n",
    "\n",
    "Примечание. Последний элемент списка состоит из 26 символов z.\n",
    "\n"
   ]
  },
  {
   "cell_type": "code",
   "execution_count": 15,
   "id": "663d6d1c",
   "metadata": {},
   "outputs": [
    {
     "name": "stdout",
     "output_type": "stream",
     "text": [
      "['a', 'bb', 'ccc', 'dddd', 'eeeee', 'ffffff', 'ggggggg', 'hhhhhhhh', 'iiiiiiiii', 'jjjjjjjjjj', 'kkkkkkkkkkk', 'llllllllllll', 'mmmmmmmmmmmmm', 'nnnnnnnnnnnnnn', 'ooooooooooooooo', 'pppppppppppppppp', 'qqqqqqqqqqqqqqqqq', 'rrrrrrrrrrrrrrrrrr', 'sssssssssssssssssss', 'tttttttttttttttttttt', 'uuuuuuuuuuuuuuuuuuuuu', 'vvvvvvvvvvvvvvvvvvvvvv', 'wwwwwwwwwwwwwwwwwwwwwww', 'xxxxxxxxxxxxxxxxxxxxxxxx', 'yyyyyyyyyyyyyyyyyyyyyyyyy', 'zzzzzzzzzzzzzzzzzzzzzzzzzz']\n"
     ]
    }
   ],
   "source": [
    "l = []\n",
    "abc = 'abcdefghijklmnopqrstuvwxyz'\n",
    "for i in range(26):\n",
    "    l.append(chr(ord('a') + i)*(i+1))\n",
    "print(l)"
   ]
  },
  {
   "cell_type": "markdown",
   "id": "4efa1af3",
   "metadata": {},
   "source": [
    "# 24. Список кубов\n",
    "На вход программе подается натуральное число n, а затем n целых чисел. Напишите программу, которая создает из указанных чисел список их кубов.\n",
    "\n",
    "`Формат входных данных`\n",
    "\n",
    "На вход программе подаются натуральное число n, а затем n целых чисел, каждое на отдельной строке.\n",
    "\n",
    "`Формат выходных данных`\n",
    "\n",
    "Программа должна вывести список, состоящий из кубов указанных чисел."
   ]
  },
  {
   "cell_type": "code",
   "execution_count": 16,
   "id": "6d839207",
   "metadata": {},
   "outputs": [
    {
     "name": "stdout",
     "output_type": "stream",
     "text": [
      "2\n",
      "4\n",
      "11\n",
      "[64, 1331]\n"
     ]
    }
   ],
   "source": [
    "n = int(input())\n",
    "l = []\n",
    "for i in range(n):\n",
    "    m = int(input())\n",
    "    l.append(m ** 3)\n",
    "print(l)"
   ]
  },
  {
   "cell_type": "markdown",
   "id": "5fc6faaf",
   "metadata": {},
   "source": [
    "# 25. Список делителей\n",
    "На вход программе подается натуральное число n. Напишите программу, которая создает список состоящий из делителей введенного числа.\n",
    "\n",
    "`Формат входных данных`\n",
    "\n",
    "На вход программе подается натуральное число n.\n",
    "\n",
    "`Формат выходных данных`\n",
    "\n",
    "Программа должна вывести список, состоящий из делителей введенного числа."
   ]
  },
  {
   "cell_type": "code",
   "execution_count": 17,
   "id": "da337e68",
   "metadata": {},
   "outputs": [
    {
     "name": "stdout",
     "output_type": "stream",
     "text": [
      "25\n",
      "[1, 5, 25]\n"
     ]
    }
   ],
   "source": [
    "n = int(input())\n",
    "l = []\n",
    "for i in range(1, n+1):\n",
    "    if n % i == 0:\n",
    "        l.append(i)\n",
    "print(l)"
   ]
  },
  {
   "cell_type": "markdown",
   "id": "1b7b207e",
   "metadata": {},
   "source": [
    "# 26. Суммы двух\n",
    "На вход программе подается натуральное число n≥2, а затем nn целых чисел. Напишите программу, которая создает из указанных чисел список, состоящий из сумм соседних чисел (0 и 1, 1 и 2, 2 и 3 и т.д.).\n",
    "\n",
    "`Формат входных данных`\n",
    "\n",
    "На вход программе подаются натуральное число n, а затем n целых чисел, каждое на отдельной строке.\n",
    "\n",
    "`Формат выходных данных`\n",
    "\n",
    "Программа должна вывести список, состоящий из сумм соседних чисел."
   ]
  },
  {
   "cell_type": "code",
   "execution_count": 18,
   "id": "64a13554",
   "metadata": {},
   "outputs": [
    {
     "name": "stdout",
     "output_type": "stream",
     "text": [
      "2\n",
      "10\n",
      "9\n",
      "[19]\n"
     ]
    }
   ],
   "source": [
    "n = int(input())\n",
    "l = []\n",
    "l2 = []\n",
    "for i in range(n):\n",
    "    m = int(input())\n",
    "    l.append(m)\n",
    "for j in range(len(l) - 1):\n",
    "    l2.append(l[j] + l[j + 1])\n",
    "print(l2)"
   ]
  },
  {
   "cell_type": "markdown",
   "id": "8c3f5fe1",
   "metadata": {},
   "source": [
    "# 27. Удалите нечетные индексы\n",
    "На вход программе подается натуральное число n, а затем n целых чисел. Напишите программу, которая создает из указанных чисел список, затем удаляет все элементы стоящие по нечетным индексам, а затем выводит полученный список.\n",
    "\n",
    "`Формат входных данных`\n",
    "\n",
    "На вход программе подаются натуральное число n, а затем n целых чисел, каждое на отдельной строке.\n",
    "\n",
    "`Формат выходных данных`\n",
    "\n",
    "Программа должна вывести список в соответствии с условием задачи.\n",
    "\n",
    "Примечание. Используйте оператор del."
   ]
  },
  {
   "cell_type": "code",
   "execution_count": 19,
   "id": "d9511746",
   "metadata": {},
   "outputs": [
    {
     "name": "stdout",
     "output_type": "stream",
     "text": [
      "1\n",
      "8\n",
      "[8]\n"
     ]
    }
   ],
   "source": [
    "n = int(input())\n",
    "l = []\n",
    "for i in range(n):\n",
    "    m = int(input())\n",
    "    l.append(m)\n",
    "print(l[::2])"
   ]
  },
  {
   "cell_type": "markdown",
   "id": "f2b179fe",
   "metadata": {},
   "source": [
    "# 28. k-ая буква слова 🌶️🌶️\n",
    "На вход программе подается натуральное число n и n строк, а затем число k. Напишите программу, которая выводит k-ую букву из введенных строк на одной строке без пробелов.\n",
    "\n",
    "`Формат входных данных`\n",
    "\n",
    "На вход программе подается натуральное число n,  далее n строк, каждая на отдельной строке. В конце вводится натуральное число k – номер буквы (нумерация начинается с единицы).\n",
    "\n",
    "`Формат выходных данных`\n",
    "\n",
    "Программа должна вывести текст в соответствии с условием задачи.\n",
    "\n",
    "Примечание. Если некоторые строки слишком короткие, и в них нет символа с заданным номером, то такие строки при выводе нужно игнорировать."
   ]
  },
  {
   "cell_type": "code",
   "execution_count": 21,
   "id": "39b43ae3",
   "metadata": {},
   "outputs": [
    {
     "name": "stdout",
     "output_type": "stream",
     "text": [
      "2\n",
      "efghij\n",
      "sfqweq\n",
      "2\n",
      "ff\n"
     ]
    }
   ],
   "source": [
    "n = int(input())\n",
    "l = []\n",
    "for i in range(n):\n",
    "    a = input()\n",
    "    l.append(a)\n",
    "aq = ''\n",
    "m = int(input())\n",
    "for i in l:\n",
    "    if len(i) >= m:\n",
    "        aq += i[m-1]\n",
    "print(aq)"
   ]
  },
  {
   "cell_type": "markdown",
   "id": "114b1191",
   "metadata": {},
   "source": [
    "# 29. Символы всех строк\n",
    "На вход программе подается натуральное число n, а затем n строк. Напишите программу, которая создает список из символов всех строк, а затем выводит его.\n",
    "\n",
    "`Формат входных данных`\n",
    "\n",
    "На вход программе подаются натуральное число n, а затем n строк, каждая на отдельной строке.\n",
    "\n",
    "`Формат выходных данных`\n",
    "\n",
    "Программа должна вывести список состоящий из символов всех введенных строк.\n",
    "\n",
    "Примечание. В результирующем списке могут содержаться одинаковые символы.\n",
    "\n"
   ]
  },
  {
   "cell_type": "code",
   "execution_count": 22,
   "id": "e9be90b9",
   "metadata": {},
   "outputs": [
    {
     "name": "stdout",
     "output_type": "stream",
     "text": [
      "1\n",
      "asfas\n",
      "['a', 's', 'f', 'a', 's']\n"
     ]
    }
   ],
   "source": [
    "n = int(input())\n",
    "l = []\n",
    "for i in range(n):\n",
    "    a = input()\n",
    "    l.extend(a)\n",
    "print(l)"
   ]
  },
  {
   "cell_type": "markdown",
   "id": "dec68e3c",
   "metadata": {},
   "source": []
  }
 ],
 "metadata": {
  "kernelspec": {
   "display_name": "Python 3 (ipykernel)",
   "language": "python",
   "name": "python3"
  },
  "language_info": {
   "codemirror_mode": {
    "name": "ipython",
    "version": 3
   },
   "file_extension": ".py",
   "mimetype": "text/x-python",
   "name": "python",
   "nbconvert_exporter": "python",
   "pygments_lexer": "ipython3",
   "version": "3.9.12"
  }
 },
 "nbformat": 4,
 "nbformat_minor": 5
}
