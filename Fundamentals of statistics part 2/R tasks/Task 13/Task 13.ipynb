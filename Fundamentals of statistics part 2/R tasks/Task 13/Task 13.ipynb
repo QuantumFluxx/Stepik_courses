{
 "cells": [
  {
   "cell_type": "markdown",
   "id": "7e9fd743",
   "metadata": {},
   "source": [
    "Напишите функцию normality_test, которая получает на вход dataframe с произвольным количеством переменных разных типов (количественные, строки, факторы) и проверяет нормальность распределения количественных переменных. Функция должна возвращать вектор значений p-уровней значимости теста shapiro.test для каждой количественной переменной.\n",
    "\n",
    "Вот такая задача уж точно встретится вам в реальной практике не один раз!"
   ]
  },
  {
   "cell_type": "code",
   "execution_count": 1,
   "id": "17d016d3",
   "metadata": {},
   "outputs": [],
   "source": [
    "normality_test <- function(dataset){\n",
    "return(unlist(sapply(dataset[sapply(dataset, is.numeric)], shapiro.test)[\"p.value\",]))\n",
    "}"
   ]
  }
 ],
 "metadata": {
  "kernelspec": {
   "display_name": "R",
   "language": "R",
   "name": "ir"
  },
  "language_info": {
   "codemirror_mode": "r",
   "file_extension": ".r",
   "mimetype": "text/x-r-source",
   "name": "R",
   "pygments_lexer": "r",
   "version": "3.6.1"
  }
 },
 "nbformat": 4,
 "nbformat_minor": 5
}
