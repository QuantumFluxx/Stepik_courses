{
 "cells": [
  {
   "cell_type": "markdown",
   "id": "9b333abd",
   "metadata": {},
   "source": [
    "# 1. Какой программный код написан с ошибкой?\n",
    "```python\n",
    "def do_something():\n",
    "    a = 1\n",
    "    print(a)\n",
    "\n",
    "a = 0\n",
    "do_something()\n",
    "print(a)\n",
    "```\n",
    "\n",
    "```python\n",
    "def do_something():\n",
    "    a = 1\n",
    "\n",
    "do_something()\n",
    "print(a)\n",
    "a = 1\n",
    "```\n",
    "\n",
    "```python\n",
    "def do_something():\n",
    "    print(a)\n",
    "\n",
    "do_something()\n",
    "```\n",
    "\n",
    "\n",
    "* 1\n",
    "\n",
    "* **2**\n",
    "\n",
    "* 3\n",
    "\n",
    "# 2. Какие из переменных в приведенном ниже коде являются локальными?\n",
    "```python\n",
    "def factorial(n):\n",
    "    res = 1\n",
    "    for i in range(2, n + 1):\n",
    "        res *= i\n",
    "    return res\n",
    "\n",
    "number = int(input())\n",
    "f = factorial(number)\n",
    "```\n",
    "\n",
    "\n",
    "* **res**\n",
    "\n",
    "* f\n",
    "\n",
    "* number\n",
    "\n",
    "* **n**\n",
    "\n",
    "* **i**\n",
    "\n",
    "\n",
    "# 3. Вставить в пропуски слова из списка.\n",
    "\n",
    "Примечание. Слова могут использоваться не все и могут повторяться.\n",
    "\n",
    "Python считает переменную `локальной` для данной `функции`, если в её коде есть хотя бы одна инструкция, модифицирующая \n",
    "`значение` переменной. В этом случае эта `переменная` считается `локальной` и не может быть использована до инициализации.\n",
    "\n",
    "\n",
    "# 4. Звездный треугольник 🌶️\n",
    "Напишите функцию draw_triangle(), которая выводит звездный равнобедренный треугольник с основанием и высотой равными 15 и 8 соответственно:\n",
    "```\n",
    "       *\n",
    "      ***\n",
    "     *****\n",
    "    *******\n",
    "   *********\n",
    "  ***********\n",
    " *************\n",
    "***************\n",
    "```\n",
    "Примечание 1 . Для вывода треугольника используйте цикл for. \n",
    "\n",
    "Примечание 2 . Справа от звездочек пробелов нет."
   ]
  },
  {
   "cell_type": "code",
   "execution_count": 1,
   "id": "15e5d547",
   "metadata": {},
   "outputs": [
    {
     "name": "stdout",
     "output_type": "stream",
     "text": [
      "       *\n",
      "      ***\n",
      "     *****\n",
      "    *******\n",
      "   *********\n",
      "  ***********\n",
      " *************\n",
      "***************\n"
     ]
    }
   ],
   "source": [
    "# объявление функции\n",
    "def draw_triangle():\n",
    "    for i in range(8):\n",
    "        print(' ' * (8 - 1 - i) + '*' * (1 + i * 2))\n",
    "# основная программа\n",
    "draw_triangle()  # вызов функции"
   ]
  },
  {
   "cell_type": "markdown",
   "id": "2a19fb86",
   "metadata": {},
   "source": [
    "# 5. Калькулятор доставки\n",
    "Интернет магазин осуществляет экспресс доставку для своих товаров по цене 1000 рублей за первый товар и 120 рублей за каждый последующий товар. Напишите функцию get_shipping_cost(quantity), которая принимает в качестве аргумента натуральное число quantity – количество товаров в заказе и возвращает стоимость доставки.\n",
    "\n",
    "Примечание. Следующий программный код:\n",
    "```python\n",
    "print(get_shipping_cost(1))\n",
    "print(get_shipping_cost(3))\n",
    "```\n",
    "должен выводить:\n",
    "```\n",
    "1000\n",
    "1240\n",
    "```"
   ]
  },
  {
   "cell_type": "code",
   "execution_count": 2,
   "id": "981c5fe5",
   "metadata": {},
   "outputs": [
    {
     "name": "stdout",
     "output_type": "stream",
     "text": [
      "1\n",
      "1000\n"
     ]
    }
   ],
   "source": [
    "# объявление функции\n",
    "def get_shipping_cost(quantity):\n",
    "    d1 = 1000\n",
    "    d2 = 120\n",
    "    q = 0\n",
    "    if n > 1:\n",
    "        q = d1 + (d2 * (n - 1))\n",
    "    elif n == 1:\n",
    "        q = d1 * n\n",
    "    return q\n",
    "# считываем данные\n",
    "n = int(input())\n",
    "# вызываем функцию\n",
    "print(get_shipping_cost(n))"
   ]
  },
  {
   "cell_type": "markdown",
   "id": "87450ed1",
   "metadata": {},
   "source": [
    "# 6. Биномиальный коэффициент 🌶️\n",
    "Напишите функцию compute_binom(n, k), которая принимает в качестве аргументов два натуральных числа n и k и возвращает значение биномиального коэффициента, равного n! / k!(n - k!).\n",
    "\n",
    "Примечание 1. Факториалом натурального числа n, называется произведение всех натуральных чисел от 1 до n, то есть n!=1⋅2⋅3⋅…⋅n\n",
    "\n",
    "Примечание 2. Реализуйте вспомогательную функцию factorial(n), вычисляющую факториал числа или воспользуйтесь уже готовой функцией из модуля math."
   ]
  },
  {
   "cell_type": "code",
   "execution_count": 3,
   "id": "c8240c82",
   "metadata": {},
   "outputs": [
    {
     "name": "stdout",
     "output_type": "stream",
     "text": [
      "10\n",
      "2\n",
      "45\n"
     ]
    }
   ],
   "source": [
    "from math import *\n",
    "# объявление функции\n",
    "def compute_binom(n, k):\n",
    "    qu = factorial(n) / (factorial(k) * (factorial(n - k)))\n",
    "    return int(qu)\n",
    "# считываем данные\n",
    "n = int(input())\n",
    "k = int(input())\n",
    "# вызываем функцию\n",
    "print(compute_binom(n, k))"
   ]
  },
  {
   "cell_type": "markdown",
   "id": "22a651db",
   "metadata": {},
   "source": [
    "# 7. Число словами 🌶️\n",
    "Напишите функцию number_to_words(num), которая принимает в качестве аргумента натуральное число num и возвращает его словесное описание на русском языке.\n",
    "\n",
    "Примечание 1. Считайте, что число 1≤num ≤99.\n",
    "\n",
    "Примечание 2. Следующий программный код:\n",
    "```python\n",
    "print(number_to_words(7))\n",
    "print(number_to_words(85))\n",
    "```\n",
    "должен выводить:\n",
    "```\n",
    "семь\n",
    "восемьдесят пять\n",
    "```"
   ]
  },
  {
   "cell_type": "code",
   "execution_count": 4,
   "id": "3e6f09e2",
   "metadata": {},
   "outputs": [
    {
     "name": "stdout",
     "output_type": "stream",
     "text": [
      "3\n",
      "три\n"
     ]
    }
   ],
   "source": [
    "# объявление функции\n",
    "def number_to_words(num):\n",
    "    list1 = ['','один', 'два', 'три', 'четыре', 'пять', 'шесть', 'семь', 'восемь', 'девять', 'десять']\n",
    "    list2 = ['','одиннадцать', 'двенадцать', 'тринадцать', 'четырнадцать', 'пятнадцать', 'шестнадцать', 'семнадцать', 'восемнадцать', 'девятнадцать']\n",
    "    list3 = ['','','двадцать', 'тридцать', 'сорок', 'пятьдесят', 'шестьдесят', 'семьдесят', 'восемьдесят', 'девяносто']   \n",
    "    if n <= 10:     \n",
    "        return list1[n]\n",
    "    elif 11 <= n <= 19:\n",
    "        return list2[n % 10]   \n",
    "    else:\n",
    "        return list3[n // 10] + ' ' + list1[n % 10]       \n",
    "# считываем данные\n",
    "n = int(input())\n",
    "# вызываем функцию\n",
    "print(number_to_words(n))"
   ]
  },
  {
   "cell_type": "markdown",
   "id": "6adefe28",
   "metadata": {},
   "source": [
    "# 8. Искомый месяц\n",
    "Напишите функцию get_month(language, number), которая принимает на вход два аргумента language – язык ru или en и number – номер месяца (от 1 до 12) и возвращает название месяца на русском или английском языке.\n",
    "\n",
    "Примечание. Следующий программный код:\n",
    "```python\n",
    "print(get_month('ru', 1))\n",
    "print(get_month('ru', 12))\n",
    "print(get_month('en', 1))\n",
    "print(get_month('en', 10))\n",
    "```\n",
    "должен выводить:\n",
    "```\n",
    "январь\n",
    "декабрь\n",
    "january\n",
    "october\n",
    "```"
   ]
  },
  {
   "cell_type": "code",
   "execution_count": 5,
   "id": "5fd525c1",
   "metadata": {},
   "outputs": [
    {
     "name": "stdout",
     "output_type": "stream",
     "text": [
      "ru\n",
      "3\n",
      "март\n"
     ]
    }
   ],
   "source": [
    "# объявление функции\n",
    "def get_month(language, number):\n",
    "    ru = ['январь', 'февраль', 'март', 'апрель', 'май', 'июнь', 'июль', 'август', 'сентябрь', 'октябрь', 'ноябрь', 'декабрь']\n",
    "    en = ['january', 'february', 'march', 'april', 'may', 'june', 'july', 'august', 'september', 'october', 'november', 'december']\n",
    "    if lan == 'ru':\n",
    "        return ru[num-1]\n",
    "    if lan == 'en':\n",
    "        return en[num-1]  \n",
    "# считываем данные\n",
    "lan = input()\n",
    "num = int(input())\n",
    "# вызываем функцию\n",
    "print(get_month(lan, num))"
   ]
  },
  {
   "cell_type": "markdown",
   "id": "e88bcb33",
   "metadata": {},
   "source": [
    "# 9. Магические даты\n",
    "Магическая дата – это дата, когда день, умноженный на месяц, равен числу образованному последними двумя цифрами года.\n",
    "\n",
    "Напишите функцию, is_magic(date) которая принимает в качестве аргумента строковое представление корректой даты и возвращает значение True если дата является магической и False в противном случае.\n",
    "\n",
    "Примечание. Следующий программный код:\n",
    "```python\n",
    "print(is_magic('10.06.1960'))\n",
    "print(is_magic('11.06.1960'))\n",
    "```\n",
    "должен выводить:\n",
    "```\n",
    "True\n",
    "False\n",
    "```"
   ]
  },
  {
   "cell_type": "code",
   "execution_count": 6,
   "id": "b29998af",
   "metadata": {},
   "outputs": [
    {
     "name": "stdout",
     "output_type": "stream",
     "text": [
      "15.03.1945\n",
      "True\n"
     ]
    }
   ],
   "source": [
    "# объявление функции\n",
    "def is_magic(date):\n",
    "    list = date\n",
    "    l2 = date[2]\n",
    "    if int(list[0]) * int(list[1]) == int(l2[2:]):\n",
    "        return True\n",
    "    else:\n",
    "        return False\n",
    "# считываем данные\n",
    "date = input().split('.')\n",
    "# вызываем функцию\n",
    "print(is_magic(date))"
   ]
  },
  {
   "cell_type": "markdown",
   "id": "676ebe94",
   "metadata": {},
   "source": [
    "# 10. Панграммы\n",
    "Панграмма – это фраза, содержащая в себе все буквы алфавита. Обычно панграммы используют для презентации шрифтов, чтобы можно было в одной фразе рассмотреть все глифы.\n",
    "\n",
    "Напишите функцию, is_pangram(text) которая принимает в качестве аргумента строку текста на английском языке и возвращает значение True если текст является панграммой и False в противном случае.\n",
    "\n",
    "Примечание 1. Гарантируется, что введенная строка содержит только буквы английского алфавита.\n",
    "\n",
    "Примечание 2. Следующий программный код:\n",
    "```python\n",
    "print(is_pangram('Jackdaws love my big sphinx of quartz'))\n",
    "print(is_pangram('The jay pig fox zebra and my wolves quack'))\n",
    "print(is_pangram('Hello world'))\n",
    "```\n",
    "должен выводить:\n",
    "```\n",
    "True\n",
    "True\n",
    "False\n",
    "```"
   ]
  },
  {
   "cell_type": "code",
   "execution_count": 7,
   "id": "4753147a",
   "metadata": {},
   "outputs": [
    {
     "name": "stdout",
     "output_type": "stream",
     "text": [
      "The quick brown fox jumps over the lazy dog\n",
      "True\n"
     ]
    }
   ],
   "source": [
    "# объявление функции\n",
    "def is_pangram(text):\n",
    "    a = ['a', 'b', 'c', 'd', 'e', 'f', 'g', 'h', 'i', 'j', 'k', 'l', 'm', 'n', 'o', 'p', 'q', 'r', 's', 't', 'u', 'v', 'w', 'x', 'y', 'z']\n",
    "    for i in a:\n",
    "        if i not in text:\n",
    "            return False\n",
    "    else:\n",
    "        return True\n",
    "# считываем данные\n",
    "text = input().lower()\n",
    "# вызываем функцию\n",
    "print(is_pangram(text))"
   ]
  }
 ],
 "metadata": {
  "kernelspec": {
   "display_name": "Python 3 (ipykernel)",
   "language": "python",
   "name": "python3"
  },
  "language_info": {
   "codemirror_mode": {
    "name": "ipython",
    "version": 3
   },
   "file_extension": ".py",
   "mimetype": "text/x-python",
   "name": "python",
   "nbconvert_exporter": "python",
   "pygments_lexer": "ipython3",
   "version": "3.9.12"
  }
 },
 "nbformat": 4,
 "nbformat_minor": 5
}
